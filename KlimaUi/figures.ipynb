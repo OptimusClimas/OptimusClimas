{
 "cells": [
  {
   "cell_type": "markdown",
   "id": "b5cf214d-cfc6-45e4-9136-568c81016b60",
   "metadata": {},
   "source": [
    "# Reprocing of the figures in our publication"
   ]
  },
  {
   "cell_type": "code",
   "id": "f93b6bba-42e3-4148-b0da-dd15626e8531",
   "metadata": {
    "ExecuteTime": {
     "end_time": "2025-01-08T17:27:45.140290Z",
     "start_time": "2025-01-08T17:27:44.953137Z"
    }
   },
   "source": [
    "# import of needed modules\n",
    "from KlimaUi.climatesimulationAI import Eval\n",
    "from KlimaUi.climatesimulationAI import simulation\n",
    "from KlimaUi.climatesimulationAI.other import visuals\n",
    "from KlimaUi.climatesimulationAI.Training import Training\n",
    "from matplotlib import pyplot as plt\n",
    "import numpy as np"
   ],
   "outputs": [
    {
     "ename": "ModuleNotFoundError",
     "evalue": "No module named 'KlimaUi.KlimaUi'",
     "output_type": "error",
     "traceback": [
      "\u001B[1;31m---------------------------------------------------------------------------\u001B[0m",
      "\u001B[1;31mModuleNotFoundError\u001B[0m                       Traceback (most recent call last)",
      "Cell \u001B[1;32mIn[7], line 2\u001B[0m\n\u001B[0;32m      1\u001B[0m \u001B[38;5;66;03m# import of needed modules\u001B[39;00m\n\u001B[1;32m----> 2\u001B[0m \u001B[38;5;28;01mfrom\u001B[39;00m \u001B[38;5;21;01mKlimaUi\u001B[39;00m\u001B[38;5;21;01m.\u001B[39;00m\u001B[38;5;21;01mclimatesimulationAI\u001B[39;00m \u001B[38;5;28;01mimport\u001B[39;00m Eval\n\u001B[0;32m      3\u001B[0m \u001B[38;5;28;01mfrom\u001B[39;00m \u001B[38;5;21;01mKlimaUi\u001B[39;00m\u001B[38;5;21;01m.\u001B[39;00m\u001B[38;5;21;01mclimatesimulationAI\u001B[39;00m \u001B[38;5;28;01mimport\u001B[39;00m simulation\n\u001B[0;32m      4\u001B[0m \u001B[38;5;28;01mfrom\u001B[39;00m \u001B[38;5;21;01mKlimaUi\u001B[39;00m\u001B[38;5;21;01m.\u001B[39;00m\u001B[38;5;21;01mclimatesimulationAI\u001B[39;00m\u001B[38;5;21;01m.\u001B[39;00m\u001B[38;5;21;01mother\u001B[39;00m \u001B[38;5;28;01mimport\u001B[39;00m visuals\n",
      "File \u001B[1;32m~\\Desktop\\KlimaUi (3) - Kopie\\KlimaUi\\KlimaUi\\climatesimulationAI\\Eval.py:7\u001B[0m\n\u001B[0;32m      4\u001B[0m \u001B[38;5;28;01mimport\u001B[39;00m \u001B[38;5;21;01mnumpy\u001B[39;00m \u001B[38;5;28;01mas\u001B[39;00m \u001B[38;5;21;01mnp\u001B[39;00m\n\u001B[0;32m      5\u001B[0m \u001B[38;5;28;01mimport\u001B[39;00m \u001B[38;5;21;01mmatplotlib\u001B[39;00m\u001B[38;5;21;01m.\u001B[39;00m\u001B[38;5;21;01mpyplot\u001B[39;00m \u001B[38;5;28;01mas\u001B[39;00m \u001B[38;5;21;01mplt\u001B[39;00m\n\u001B[1;32m----> 7\u001B[0m \u001B[38;5;28;01mfrom\u001B[39;00m \u001B[38;5;21;01mKlimaUi\u001B[39;00m\u001B[38;5;21;01m.\u001B[39;00m\u001B[38;5;21;01mKlimaUi\u001B[39;00m\u001B[38;5;21;01m.\u001B[39;00m\u001B[38;5;21;01mclimatesimulationAI\u001B[39;00m \u001B[38;5;28;01mimport\u001B[39;00m simulation\n\u001B[0;32m     10\u001B[0m \u001B[38;5;28;01mdef\u001B[39;00m \u001B[38;5;21mmeandifference\u001B[39m(mysim, vglsim):\n\u001B[0;32m     11\u001B[0m     \u001B[38;5;66;03m# mysim, vglsim: np.array\u001B[39;00m\n\u001B[0;32m     12\u001B[0m     \u001B[38;5;66;03m# calculates the absolute mean difference\u001B[39;00m\n\u001B[0;32m     13\u001B[0m     diff \u001B[38;5;241m=\u001B[39m \u001B[38;5;28mabs\u001B[39m(mysim \u001B[38;5;241m-\u001B[39m vglsim)\n",
      "\u001B[1;31mModuleNotFoundError\u001B[0m: No module named 'KlimaUi.KlimaUi'"
     ]
    }
   ],
   "execution_count": 7
  },
  {
   "cell_type": "markdown",
   "id": "0861118c-f677-43b1-a0fe-74ae12777762",
   "metadata": {},
   "source": [
    "Fig. 4: Simulation in the SSP scenarios with the modified vision transformer (ViT, our model)\n",
    "compared with the global projection of the IPCC for global mean temperature (top) and global mean\n",
    "sea level rise (bottom), the confidence intervals of the IPCC is shaded, a similar development of ViT\n",
    "and IPCC is recognizable"
   ]
  },
  {
   "cell_type": "code",
   "execution_count": null,
   "id": "456a36ab-ee78-4fe5-b4d5-e89310a2173c",
   "metadata": {},
   "outputs": [],
   "source": [
    "currentmodel = \"FrederikeSSTGADFGRIBhist108.h5\"\n",
    "Eval.comparison3ssp(modelname=currentmodel, complete=False,nccmip6=True,sealevel=True,modelnamesea='kalaSST104.h5')"
   ]
  },
  {
   "cell_type": "code",
   "execution_count": null,
   "id": "ba1a3084-7638-40f1-b2a2-10b346cda70d",
   "metadata": {},
   "outputs": [],
   "source": [
    "currentmodel = \"FrederikeSSTGADFGRIBhist108.h5\"\n",
    "Eval.comparison3ssp(modelname=currentmodel, complete=False,nccmip6=True,sealevel=False)"
   ]
  },
  {
   "metadata": {},
   "cell_type": "markdown",
   "source": "Fig. 5: regionalised temperature simulation in the scenario SSP 3-7.0 in the year 2100 (top); difference of the temperature in 2100 to 2014 in the scenario SSP 3-7.0 (bottom), faster warming of the polar caps relative to other regions",
   "id": "ed7e105bc5d86510"
  },
  {
   "metadata": {},
   "cell_type": "code",
   "outputs": [],
   "execution_count": null,
   "source": [
    "ghgchangesssp3 = [100, 100, 100, -1, -10, -1]\n",
    "currentmodel = \"FrederikeSSTGADFGRIBhist108.h5\"\n",
    "predf = simulation.pred(ghgchanges=ghgchangesssp3, start=2014, end=2114, modelname=currentmodel, withtippingpoints=False, predsea=False, awi=False)\n",
    "fig = plt.figure()\n",
    "visuals.visualizegridtemperature(predf[:, :predf[1].size], last=True, first=False,\n",
    "                                     fig=fig, nominmax=True)"
   ],
   "id": "2c37154398f7260a"
  },
  {
   "metadata": {},
   "cell_type": "code",
   "outputs": [],
   "execution_count": null,
   "source": [
    "u = 55296\n",
    "diff = np.ones(u)\n",
    "for i in range(u):\n",
    "    diff[i] = predf[99, i] - predf[0, i]\n",
    "\n",
    "visuals.visualizegridtemperature(np.expand_dims(diff, 0), first=True, last=False, nc=True,min=0, max=6,fig=fig,nominmax=False)"
   ],
   "id": "9e22f65af9664d9f"
  },
  {
   "metadata": {},
   "cell_type": "markdown",
   "source": "Fig. 6: Mean regionalised error of the temperature simulation on the training data, error calculated with absolute difference between normalised simulated historical scenarios and historic training data",
   "id": "a8b3d19fa3974fc5"
  },
  {
   "metadata": {},
   "cell_type": "code",
   "outputs": [],
   "execution_count": null,
   "source": [
    "all5matrixhist = np.load('../KlimaUi/climatesimulationAI/Training/PreProcessing/traindata/all5matrixnew5.npy',mmap_mode='r+')\n",
    "tempgribtarget6 = np.load('../KlimaUi/climatesimulationAI/Training/PreProcessing/traindata/tempgribtarget6new4.npy', mmap_mode='r+')\n",
    "meantempgribtarget6 = np.ones((tempgribtarget6[:,0].size,1))\n",
    "for i in range(tempgribtarget6[:,0].size):\n",
    "    meantempgribtarget6[i,0] = np.mean(tempgribtarget6[i])\n",
    "tempgribtarget6new =  np.concatenate((meantempgribtarget6,tempgribtarget6), axis=1)\n",
    "\n",
    "u = 55297\n",
    "modelname = \"FrederikeSSTGADFGRIBhist108.h5\"\n",
    "gafsize=20\n",
    "model = Training.buildSST(gafsize=gafsize,outputsize=u,printsum=False,modelname=modelname,features=all5matrixhist,new=True)\n",
    "model.load_weights('../KlimaUi/climatesimulationAI/models/'+modelname)\n",
    "pred = model.predict(all5matrixhist)\n",
    "\n",
    "errorlocal = np.ones(u-1)\n",
    "for i in range(u-1):\n",
    "    errorlocaltemp = np.ones(30)\n",
    "    for j in range(30):\n",
    "        errorlocaltemp[j] = abs(pred[j,i] - tempgribtarget6new[j,i])\n",
    "        errorlocal[i] = np.mean(errorlocaltemp)\n",
    "\n",
    "visuals.visualizegridtemperature(np.expand_dims(errorlocal,0), first=True, last=False, min=0, max=1, nominmax=True, nc=True)"
   ],
   "id": "66b101e485f69456"
  },
  {
   "metadata": {},
   "cell_type": "markdown",
   "source": "Fig. 7: Development of greenhouse gas (GHG) emissions (left), temperature (right) and sea level rise (bottom) in different scenarios until 2100 with and without considering tipping points, GHG emissions: CO2 - upper graph, CH4 - bottom graph respectively, scenarios: SSP 5-8.5 (triple emissions until 2100), quadruple emissions and quintuple emissions (4x and 5x) until 2100, for explicit temperature difference and trigger years table",
   "id": "e710c9529bf0e4c0"
  },
  {
   "metadata": {},
   "cell_type": "code",
   "outputs": [],
   "execution_count": null,
   "source": [
    "currentmodel = \"FrederikeSSTGADFGRIBhist108.h5\"\n",
    "Eval.comparisonpermafrost(modelname=currentmodel, rainforest=True,onlytrigger=True)"
   ],
   "id": "58dcd237657427c9"
  },
  {
   "metadata": {},
   "cell_type": "code",
   "outputs": [],
   "execution_count": null,
   "source": [
    "currentmodel = \"FrederikeSSTGADFGRIBhist108.h5\"\n",
    "Eval.comparisonpermafrost(modelname=currentmodel, rainforest=True)"
   ],
   "id": "60834f5e42d3cc51"
  },
  {
   "metadata": {},
   "cell_type": "code",
   "outputs": [],
   "execution_count": null,
   "source": [
    "currentmodel = \"FrederikeSSTGADFGRIBhist108.h5\"\n",
    "Eval.comparisonpermafrost(modelname=currentmodel, rainforest=True, sea=True,modelnamesea='kalaSST104.h5',wais=True)"
   ],
   "id": "e0bd7944e521d965"
  }
 ],
 "metadata": {
  "kernelspec": {
   "display_name": "Python 3 (ipykernel)",
   "language": "python",
   "name": "python3"
  },
  "language_info": {
   "codemirror_mode": {
    "name": "ipython",
    "version": 3
   },
   "file_extension": ".py",
   "mimetype": "text/x-python",
   "name": "python",
   "nbconvert_exporter": "python",
   "pygments_lexer": "ipython3",
   "version": "3.11.3"
  }
 },
 "nbformat": 4,
 "nbformat_minor": 5
}
