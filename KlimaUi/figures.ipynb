{
 "cells": [
  {
   "cell_type": "markdown",
   "id": "b5cf214d-cfc6-45e4-9136-568c81016b60",
   "metadata": {},
   "source": [
    "# Reprocing of the figures in our publication"
   ]
  },
  {
   "cell_type": "code",
   "id": "f93b6bba-42e3-4148-b0da-dd15626e8531",
   "metadata": {
    "ExecuteTime": {
     "end_time": "2025-01-08T14:15:15.674097Z",
     "start_time": "2025-01-08T14:15:15.667631Z"
    }
   },
   "source": [
    "# import of needed modules\n",
    "from KlimaUI.climatesimulationAI import Eval"
   ],
   "outputs": [],
   "execution_count": 1
  },
  {
   "cell_type": "markdown",
   "id": "0861118c-f677-43b1-a0fe-74ae12777762",
   "metadata": {},
   "source": [
    "Fig. 4: Simulation in the SSP scenarios with the modified vision transformer (ViT, our model)\n",
    "compared with the global projection of the IPCC for global mean temperature (top) and global mean\n",
    "sea level rise (bottom), the confidence intervals of the IPCC is shaded, a similar development of ViT\n",
    "and IPCC is recognizable"
   ]
  },
  {
   "cell_type": "code",
   "execution_count": null,
   "id": "456a36ab-ee78-4fe5-b4d5-e89310a2173c",
   "metadata": {},
   "outputs": [],
   "source": [
    "currentmodel = \"FrederikeSSTGADFGRIBhist108.h5\"\n",
    "Eval.comparison3ssp(modelname=currentmodel, complete=False,nccmip6=True,sealevel=True,modelnamesea='kalaSST104.h5')"
   ]
  },
  {
   "cell_type": "code",
   "execution_count": null,
   "id": "ba1a3084-7638-40f1-b2a2-10b346cda70d",
   "metadata": {},
   "outputs": [],
   "source": [
    "currentmodel = \"FrederikeSSTGADFGRIBhist108.h5\"\n",
    "Eval.comparison3ssp(modelname=currentmodel, complete=False,nccmip6=True,sealevel=False)"
   ]
  },
  {
   "metadata": {},
   "cell_type": "markdown",
   "source": "Fig. 5: regionalised temperature simulation in the scenario SSP 3-7.0 in the year 2100 (top); difference of the temperature in 2100 to 2014 in the scenario SSP 3-7.0 (bottom), faster warming of the polar caps relative to other regions",
   "id": "ed7e105bc5d86510"
  },
  {
   "metadata": {},
   "cell_type": "code",
   "outputs": [],
   "execution_count": null,
   "source": "",
   "id": "2c37154398f7260a"
  },
  {
   "metadata": {},
   "cell_type": "markdown",
   "source": "Fig. 6: Mean regionalised error of the temperature simulation on the training data, error calculated with absolute difference between normalised simulated historical scenarios and historic training data",
   "id": "a8b3d19fa3974fc5"
  },
  {
   "metadata": {},
   "cell_type": "code",
   "outputs": [],
   "execution_count": null,
   "source": "",
   "id": "66b101e485f69456"
  },
  {
   "metadata": {},
   "cell_type": "markdown",
   "source": "Fig. 7: Development of greenhouse gas (GHG) emissions (left), temperature (right) and sea level rise (bottom) in different scenarios until 2100 with and without considering tipping points, GHG emissions: CO2 - upper graph, CH4 - bottom graph respectively, scenarios: SSP 5-8.5 (triple emissions until 2100), quadruple emissions and quintuple emissions (4x and 5x) until 2100, for explicit temperature difference and trigger years table",
   "id": "e710c9529bf0e4c0"
  },
  {
   "metadata": {},
   "cell_type": "code",
   "outputs": [],
   "execution_count": null,
   "source": [
    "currentmodel = \"FrederikeSSTGADFGRIBhist108.h5\"\n",
    "Eval.comparisonpermafrost(modelname=currentmodel, rainforest=True,onlytrigger=True)"
   ],
   "id": "58dcd237657427c9"
  },
  {
   "metadata": {},
   "cell_type": "code",
   "outputs": [],
   "execution_count": null,
   "source": [
    "currentmodel = \"FrederikeSSTGADFGRIBhist108.h5\"\n",
    "Eval.comparisonpermafrost(modelname=currentmodel, rainforest=True)"
   ],
   "id": "60834f5e42d3cc51"
  },
  {
   "metadata": {},
   "cell_type": "code",
   "outputs": [],
   "execution_count": null,
   "source": [
    "currentmodel = \"FrederikeSSTGADFGRIBhist108.h5\"\n",
    "Eval.comparisonpermafrost(modelname=currentmodel, rainforest=True, sea=True,modelnamesea='kalaSST104.h5',wais=True)"
   ],
   "id": "e0bd7944e521d965"
  }
 ],
 "metadata": {
  "kernelspec": {
   "display_name": "Python 3 (ipykernel)",
   "language": "python",
   "name": "python3"
  },
  "language_info": {
   "codemirror_mode": {
    "name": "ipython",
    "version": 3
   },
   "file_extension": ".py",
   "mimetype": "text/x-python",
   "name": "python",
   "nbconvert_exporter": "python",
   "pygments_lexer": "ipython3",
   "version": "3.11.3"
  }
 },
 "nbformat": 4,
 "nbformat_minor": 5
}
