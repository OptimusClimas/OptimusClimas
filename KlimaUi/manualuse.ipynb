{
 "cells": [
  {
   "metadata": {},
   "cell_type": "markdown",
   "source": [
    "# Manual use of Optimus Climas\n",
    "To run your own experiments you can also use the Code Base of Optimus Climas. You can run your own simulations and visualize them with the tools given in  KlimaUi/climatesimulationAI/other/visuals .\n",
    "\n",
    "For making your own predictions you can use the  simulation.pred(...)  in  KlimaUi/climatesimulationAI/simulation . With this function you can enable/disable a lot of features, like if and which tipping points to consider for the simulation. For further documentation see  KlimaUi/climatesimulationAI/simulation.py .\n",
    "\n",
    "Optimus Climas is optimised for positive emission scenarios (meaning ONLY increase in emissions). There are trained models for negative emission scenarios, BUT they are not fully optimised as this was not the focus of the study. For negative emission scenarios the model FrederikeSSTGADFGRIBhist101.h5 is suggested with the additional parameters for simulation.pred(...):\n",
    "- newuse = True\n",
    "- oldmodeluse = False\n",
    "\n",
    "The suggested and tested models are  FrederikeSSTGADFGRIBhist108.h5  (for temperature simulation) and  kalaSST104.h5  (for sea level simulation)! FOR ALL OTHER MODELS REALISTIC RESULTS CAN'T BE GUARANTEED!\n",
    "\n",
    "ATTENTION, some parameters of simulation.pred() are only for developing purposes! Please do not change manually at all the following parameters:\n",
    "   - numberofghgs: amount of ghgs used for the simulation (optional)\n",
    "   - numberoffeatures: amount of features (input parameters) used for the simulation (optional)\n",
    "   - gafsize: size of the GAF matrices (optional)\n",
    "   - methodSST: whether to use Spatial-Spectral Transformer/mVit, boolean (default true)\n",
    "   - methodConv: whether to use CNN, boolean (default false),  EXPERIMENTAL!,\n",
    "      ESPECIALLY WITH TIPPING POINTS! ONLY WORKS WITH MODELS TRAINED FOR CNN ARCHITECTURE!!!\n",
    "\n",
    "\n",
    "ATTENTION, a lot of parameters of simulation.pred() are dependent on the model version you use! DO NOT modify the following parameters besides the parameter sets given for the different models:\n",
    "   - outputsize: size of the output (temperature grid) (optional)\n",
    "   - modelname: filename of the used neural network for the temperature simulation (optional)\n",
    "   - actfactor: factor sigmoid is multiplied by in the pre-activation, float (default 0.8,  determined experimentally)\n",
    "   - modelnamesea: filename of the used neural network for the sea level simulation (optional)\n",
    "   - nccmip6: if grid of cmip6 imported in a netCDF format is used, boolean (default true)\n",
    "   - with_oldmodel: whether to use multiple model versions (results in more accurate result), boolean (default true)\n",
    "   - new: whether to use a certain model architecture (for temperature model), boolean\n",
    "   - awi: if grid format of the AWI is used, boolean (default false)\n",
    "   - newsea: whether to use a certain model architecture (for sea level model), boolean\n",
    "\n",
    "YOU CAN modify these parameters:\n",
    "- ghgchanges: changes in ghgs (characteristic of the scenario), list of integers, shape (ghg, co2, ch4, bc, so2, oc)\n",
    "- onlyindata: whether to only calculate (and return) the gaf matrices (input for the model), boolean (default false)\n",
    "- onlyemidata: whether to only calculate (and return) the future emission developments, boolean (default false)\n",
    "- withtippingpoints: whether to consider tipping points in the simulation, boolean (default false)\n",
    "- predsea: whether to simulate global mean sea level, boolean (default false)\n",
    "- anaerobe: whether anaerobe conditions for the boreal permafrost collapse are to be assumed, boolean (default true)\n",
    "- rainforestused: whether to take the tipping point die-off of the amazonas rainforest into account, boolean (default true)\n",
    "- wais: whether to consider the tipping point collapse of the west-antarctic ice sheet\n",
    "- partly_anaerobe: whether certain parts are to be assumed under anaerobe conditions\n",
    " for the boreal permafrost collapse, boolean (default false),  HAS EFFECT ONLY IF anaerobe=true\n",
    "- partanaeorbe: how many is to be assumed anaerobe of the boreal permafrost when collapsing, in %, float, HAS EFFECT ONLY IF partly_anaerobe=true!\n",
    "- withpermafrost: whether to take the tipping point collapse of the boreal permafrost into account, boolean (default true)\n",
    "\n",
    "\n"
   ],
   "id": "cce88d026d1c0094"
  },
  {
   "metadata": {},
   "cell_type": "markdown",
   "source": [
    "# Example prediction with the suggested models\n",
    "Here an example is shown with the suggested models and the right parameters for them. You can modify the parameters not named above to make your own experiments."
   ],
   "id": "f0678db8f0609c5d"
  },
  {
   "metadata": {
    "ExecuteTime": {
     "end_time": "2025-01-09T18:01:21.231432Z",
     "start_time": "2025-01-09T18:01:20.849935Z"
    }
   },
   "cell_type": "code",
   "source": [
    "import matplotlib.pyplot as plt\n",
    "import KlimaUi.climatesimulationAI.simulation as simulation\n",
    "import KlimaUi.climatesimulationAI.other.visuals as visuals"
   ],
   "id": "ca3dea6f3c936fde",
   "outputs": [
    {
     "ename": "ModuleNotFoundError",
     "evalue": "No module named 'climatesimulationAI'",
     "output_type": "error",
     "traceback": [
      "\u001B[1;31m---------------------------------------------------------------------------\u001B[0m",
      "\u001B[1;31mModuleNotFoundError\u001B[0m                       Traceback (most recent call last)",
      "Cell \u001B[1;32mIn[2], line 2\u001B[0m\n\u001B[0;32m      1\u001B[0m \u001B[38;5;28;01mimport\u001B[39;00m \u001B[38;5;21;01mmatplotlib\u001B[39;00m\u001B[38;5;21;01m.\u001B[39;00m\u001B[38;5;21;01mpyplot\u001B[39;00m \u001B[38;5;28;01mas\u001B[39;00m \u001B[38;5;21;01mplt\u001B[39;00m\n\u001B[1;32m----> 2\u001B[0m \u001B[38;5;28;01mimport\u001B[39;00m \u001B[38;5;21;01mKlimaUi\u001B[39;00m\u001B[38;5;21;01m.\u001B[39;00m\u001B[38;5;21;01mclimatesimulationAI\u001B[39;00m\u001B[38;5;21;01m.\u001B[39;00m\u001B[38;5;21;01msimulation\u001B[39;00m \u001B[38;5;28;01mas\u001B[39;00m \u001B[38;5;21;01msimulation\u001B[39;00m\n\u001B[0;32m      3\u001B[0m \u001B[38;5;28;01mimport\u001B[39;00m \u001B[38;5;21;01mKlimaUi\u001B[39;00m\u001B[38;5;21;01m.\u001B[39;00m\u001B[38;5;21;01mclimatesimulationAI\u001B[39;00m\u001B[38;5;21;01m.\u001B[39;00m\u001B[38;5;21;01mother\u001B[39;00m\u001B[38;5;21;01m.\u001B[39;00m\u001B[38;5;21;01mvisuals\u001B[39;00m \u001B[38;5;28;01mas\u001B[39;00m \u001B[38;5;21;01mvisuals\u001B[39;00m\n",
      "File \u001B[1;32m~\\Desktop\\KlimaUi (3) - Kopie\\KlimaUi\\KlimaUi\\climatesimulationAI\\simulation.py:11\u001B[0m\n\u001B[0;32m      9\u001B[0m \u001B[38;5;28;01mfrom\u001B[39;00m \u001B[38;5;21;01mnumba\u001B[39;00m \u001B[38;5;28;01mimport\u001B[39;00m jit\n\u001B[0;32m     10\u001B[0m \u001B[38;5;66;03m# import of needed functions from other modules\u001B[39;00m\n\u001B[1;32m---> 11\u001B[0m \u001B[38;5;28;01mfrom\u001B[39;00m \u001B[38;5;21;01mclimatesimulationAI\u001B[39;00m\u001B[38;5;21;01m.\u001B[39;00m\u001B[38;5;21;01mTraining\u001B[39;00m\u001B[38;5;21;01m.\u001B[39;00m\u001B[38;5;21;01mTraining\u001B[39;00m \u001B[38;5;28;01mimport\u001B[39;00m Training\n\u001B[0;32m     12\u001B[0m \u001B[38;5;28;01mfrom\u001B[39;00m \u001B[38;5;21;01mclimatesimulationAI\u001B[39;00m\u001B[38;5;21;01m.\u001B[39;00m\u001B[38;5;21;01mTraining\u001B[39;00m\u001B[38;5;21;01m.\u001B[39;00m\u001B[38;5;21;01mPreProcessing\u001B[39;00m \u001B[38;5;28;01mimport\u001B[39;00m PreprocessingTrainData\n\u001B[0;32m     15\u001B[0m \u001B[38;5;28;01mdef\u001B[39;00m \u001B[38;5;21mcalc_future_emissions\u001B[39m(emission, years, ghgchanges):\n\u001B[0;32m     16\u001B[0m     \u001B[38;5;66;03m# generate emission time series based on exponential development, assumed increase or decrease and current values\u001B[39;00m\n\u001B[0;32m     17\u001B[0m     \u001B[38;5;66;03m# of greenhouse gas (ghg) emissions emission: index for chosen ghg, integer:\u001B[39;00m\n\u001B[1;32m   (...)\u001B[0m\n\u001B[0;32m     24\u001B[0m \n\u001B[0;32m     25\u001B[0m     \u001B[38;5;66;03m# current values of the ghgs in order of the used indices\u001B[39;00m\n",
      "\u001B[1;31mModuleNotFoundError\u001B[0m: No module named 'climatesimulationAI'"
     ]
    }
   ],
   "execution_count": 2
  },
  {
   "metadata": {},
   "cell_type": "code",
   "outputs": [],
   "execution_count": null,
   "source": [
    "modelname = \"FrederikeSSTGADFGRIBhist108.h5\"\n",
    "modelnamesea = 'kalaSST104.h5'\n",
    "ghgchangesssp5 = [200, 200, 50, -60, -60, -43]\n",
    "newuse = False\n",
    "oldmodeluse = True\n",
    "newsea = True\n",
    "# example prediction in scenario SSP5-8.5 with all tipping points considered and fully anaerobe conditions in case of a collapse of the boreal permafrost\n",
    "predf = simulation.pred(ghgchanges=ghgchangesssp5, start=2014, end=2114, modelname=modelname,\n",
    "                                 withtippingpoints=True, predsea=True,modelnamesea=modelnamesea,\n",
    "                                 anaerobe=True, rainforestused=True,\n",
    "                                 partly_anaerobe=False, partanaeorbe=None, new=newuse,\n",
    "                                 with_oldmodel=oldmodeluse, awi=False, wais=True, newsea=newsea)"
   ],
   "id": "d6601be7c5d9f2ce"
  },
  {
   "metadata": {},
   "cell_type": "markdown",
   "source": "You will get an output where predf[0] contains the results of the temperature simulation and predf[1] contains the results of the sea level simulation. You can plot the results of the sea level simulation as they are (due to them being global mean values) with matplotlib. For the results of the temperature simulation you can either plot the temperature development of one grid point (or the global mean) with matplotlib or create a heatmap of one year using KlimaUi/climatesimulationAI/other/visuals.visualizegridtemperature(...).",
   "id": "e81ed3d5930eb186"
  },
  {
   "metadata": {},
   "cell_type": "markdown",
   "source": "### Plot global mean sea level rise",
   "id": "704c6d2c62a6605a"
  },
  {
   "metadata": {},
   "cell_type": "code",
   "outputs": [],
   "execution_count": null,
   "source": [
    "plt.plot(predf[1])\n",
    "plt.xlabel(\"years\")\n",
    "plt.ylabel(\"rise in mm since 1880\")"
   ],
   "id": "f498882235417576"
  },
  {
   "metadata": {},
   "cell_type": "markdown",
   "source": "### Plot global mean temperature",
   "id": "af2865231c02c817"
  },
  {
   "metadata": {},
   "cell_type": "code",
   "outputs": [],
   "execution_count": null,
   "source": [
    "i = predf[0][0,:].size - 1 # for global mean temperature\n",
    "plt.plot(predf[0][:,i])\n",
    "plt.xlabel(\"years\")\n",
    "plt.ylabel(\"temperature in °C\")"
   ],
   "id": "c6ecc12167dc16a8"
  },
  {
   "metadata": {},
   "cell_type": "markdown",
   "source": "### Display heatmap",
   "id": "ee40b1fddb780700"
  },
  {
   "metadata": {},
   "cell_type": "code",
   "outputs": [],
   "execution_count": null,
   "source": [
    "outputsize = predf[0][0,:].size - 1\n",
    "i = 99 # year to display (start year = 0)\n",
    "fig = plt.figure()\n",
    "visuals.visualizegridtemperature(predf[0][:, :outputsize], last=False, first=False,i=i,fig=fig, nominmax=True)"
   ],
   "id": "3f6bf53dfba9a804"
  }
 ],
 "metadata": {
  "kernelspec": {
   "display_name": "Python 3",
   "language": "python",
   "name": "python3"
  },
  "language_info": {
   "codemirror_mode": {
    "name": "ipython",
    "version": 2
   },
   "file_extension": ".py",
   "mimetype": "text/x-python",
   "name": "python",
   "nbconvert_exporter": "python",
   "pygments_lexer": "ipython2",
   "version": "2.7.6"
  }
 },
 "nbformat": 4,
 "nbformat_minor": 5
}
